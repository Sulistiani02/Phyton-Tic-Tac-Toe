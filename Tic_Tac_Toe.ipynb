{
  "cells": [
    {
      "cell_type": "markdown",
      "metadata": {
        "id": "PO3In9UBS9EA"
      },
      "source": [
        "Final Result"
      ]
    },
    {
      "cell_type": "code",
      "execution_count": null,
      "metadata": {
        "colab": {
          "base_uri": "https://localhost:8080/"
        },
        "id": "4n0M0cWzYVxf",
        "outputId": "6df0f837-c385-48ab-f6ae-9bcb30fa419a"
      },
      "outputs": [
        {
          "ename": "",
          "evalue": "",
          "output_type": "error",
          "traceback": [
            "\u001b[1;31mRunning cells with 'Python 3.12.3' requires the ipykernel package.\n",
            "\u001b[1;31mRun the following command to install 'ipykernel' into the Python environment. \n",
            "\u001b[1;31mCommand: '\"c:/Users/MyBook Hype/AppData/Local/Programs/Python/Python312/python.exe\" -m pip install ipykernel -U --user --force-reinstall'"
          ]
        }
      ],
      "source": [
        "# Import library\n",
        "import numpy as np\n",
        "import random\n",
        "\n",
        "\n",
        "# Create tic-tac-toe board\n",
        "def create_board():\n",
        "    return np.zeros((3, 3))\n",
        "\n",
        "def find_empty_spaces(board):\n",
        "    empty_spaces = []\n",
        "    for i in range(3):\n",
        "        for j in range(3):\n",
        "            if board[i][j] == 0:\n",
        "                empty_spaces.append((i, j))\n",
        "    return empty_spaces\n",
        "\n",
        "# Function for randomly placing\n",
        "def make_random_move(board, player):\n",
        "    empty_space = random.choice(find_empty_spaces(board))\n",
        "    board[empty_space] = player\n",
        "    return board\n",
        "\n",
        "def check_row_winner(board, player):\n",
        "    for row in board:\n",
        "        if all(cell == player for cell in row):\n",
        "            return True\n",
        "    return False\n",
        "\n",
        "def check_col_winner(board, player):\n",
        "    for col in range(3):\n",
        "        if all(board[row][col] == player for row in range(3)):\n",
        "            return True\n",
        "    return False\n",
        "\n",
        "def check_diag_winner(board, player):\n",
        "    if all(board[i][i] == player for i in range(3)) or \\\n",
        "       all(board[i][2 - i] == player for i in range(3)):\n",
        "        return True\n",
        "    return False\n",
        "\n",
        "# Function to evaluate the winner\n",
        "def evaluate_game(board):\n",
        "    for player in [1, 2]:\n",
        "        if check_row_winner(board, player) or \\\n",
        "           check_col_winner(board, player) or \\\n",
        "           check_diag_winner(board, player):\n",
        "            return player\n",
        "    if np.all(board != 0):\n",
        "        return -1  # Tie\n",
        "    return 0  # Game continues\n",
        "\n",
        "def tic_tac_toe():\n",
        "    board = create_board()\n",
        "    winner = 0\n",
        "    counter = 1\n",
        "\n",
        "    print(board)\n",
        "\n",
        "    while winner == 0:\n",
        "        for player in [1, 2]:\n",
        "            board = make_random_move(board, player)\n",
        "            print(f\"Board after move {counter}:\")\n",
        "            print(board)\n",
        "            counter += 1\n",
        "            winner = evaluate_game(board)\n",
        "            if winner != 0:\n",
        "                break\n",
        "\n",
        "    if winner == -1:\n",
        "        print(\"It's a tie!\")\n",
        "    else:\n",
        "        print(f\"Player {winner} wins!\")\n",
        "\n",
        "tic_tac_toe()"
      ]
    }
  ],
  "metadata": {
    "colab": {
      "provenance": []
    },
    "kernelspec": {
      "display_name": "Python 3",
      "name": "python3"
    },
    "language_info": {
      "name": "python",
      "version": "3.12.3"
    }
  },
  "nbformat": 4,
  "nbformat_minor": 0
}
